{
 "cells": [
  {
   "cell_type": "markdown",
   "id": "22375e07",
   "metadata": {},
   "source": [
    "Q1. Create a function which will take a list as an argument and return the product of all the numbers after creating a flat list.\n",
    "\n",
    "Use the below-given list as an argument for your function.\n",
    "\n",
    "list1= [1,2,3,4, [44,55,66, True], False, (34,56,78,89,34), (1,2,3,3,2,1}, {1:34, \"key2\": [55, 67, 78, 89], 4: (45, 22, 61, 34)}, [56, 'data science'], 'Machine Learning']\n",
    "\n",
    "Note: you must extract numeric keys and values of the dictionary also."
   ]
  },
  {
   "cell_type": "code",
   "execution_count": 34,
   "id": "a30e8c23",
   "metadata": {},
   "outputs": [
    {
     "name": "stdout",
     "output_type": "stream",
     "text": [
      "13891576431748055040\n"
     ]
    }
   ],
   "source": [
    "def flat_list_product(lst):\n",
    "    flat_list = []\n",
    "    def extract_elements(lst):\n",
    "        for i in lst:\n",
    "            if type(i) == int or type(i) == float:\n",
    "                flat_list.append(i)\n",
    "            \n",
    "            elif type(i) == list or type(i) == tuple or type(i) == dict:\n",
    "                extract_elements(i)\n",
    "                    \n",
    "    extract_elements(lst)\n",
    "    product = 1\n",
    "    for i in flat_list:\n",
    "        product *= i\n",
    "    return product \n",
    "\n",
    "list1 = [1, 2, 3, 4, [44, 55, 66, True], False, (34, 56, 78, 89, 34), (1, 2, 3, 3, 2, 1), {1:34, \"key2\": [55, 67, 78, 89], 4: (45, 22, 61, 34)}, [56, 'data science'], 'Machine Learning']\n",
    "print(flat_list_product(list1))\n",
    "\n"
   ]
  },
  {
   "cell_type": "markdown",
   "id": "0e8a7972",
   "metadata": {},
   "source": [
    "Q2. Write a python program for encrypting a message sent to you by your friend. The logic of encryption should be such that, for a the output should be z. For b, the output should be y. For c, the output should be x respectively. Also, the whitespace should be replaced with a dollar sign. Keep the punctuation marks unchanged.\n",
    "\n",
    "Input Sentence: I want to become a Data Scientist.\n",
    "\n",
    "Encrypt the above input sentence using the program you just created.\n",
    "\n",
    "Note: Convert the given input sentence into lowercase before encrypting. The final output should be lowercase."
   ]
  },
  {
   "cell_type": "code",
   "execution_count": 2,
   "id": "8a25a1eb",
   "metadata": {},
   "outputs": [
    {
     "name": "stdout",
     "output_type": "stream",
     "text": [
      "r$dzmg$gl$yvxlnv$z$wzgz$hxrvmgrhg.\n"
     ]
    }
   ],
   "source": [
    "def encrypt_message(sentence):\n",
    "    alphabet = 'abcdefghijklmnopqrstuvwxyz'\n",
    "    encrypted_sentence = ''\n",
    "    sentence = sentence.lower()\n",
    "    for char in sentence:\n",
    "        if char == ' ':\n",
    "            encrypted_sentence = encrypted_sentence +'$'\n",
    "        elif char in alphabet:\n",
    "            encrypted_sentence = encrypted_sentence + alphabet[25-alphabet.index(char)]\n",
    "        else:\n",
    "            encrypted_sentence = encrypted_sentence + char\n",
    "    return encrypted_sentence\n",
    "\n",
    "input_sentence = \"I want to become a Data Scientist.\"\n",
    "print(encrypt_message(input_sentence))\n"
   ]
  }
 ],
 "metadata": {
  "kernelspec": {
   "display_name": "Python 3 (ipykernel)",
   "language": "python",
   "name": "python3"
  },
  "language_info": {
   "codemirror_mode": {
    "name": "ipython",
    "version": 3
   },
   "file_extension": ".py",
   "mimetype": "text/x-python",
   "name": "python",
   "nbconvert_exporter": "python",
   "pygments_lexer": "ipython3",
   "version": "3.9.13"
  }
 },
 "nbformat": 4,
 "nbformat_minor": 5
}
