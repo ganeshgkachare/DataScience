{
 "cells": [
  {
   "cell_type": "markdown",
   "id": "f7501a05",
   "metadata": {},
   "source": [
    "### Q1. Explain Class and Object with respect to Object-Oriented Programming. Give a suitable example.\n",
    "* A class in Object-Oriented Programming (OOP) is a blueprint for creating objects.\n",
    "* An object is an instance of a class. It has its own state, which is represented by the values of its attributes, and behavior, which is defined by the methods in the class."
   ]
  },
  {
   "cell_type": "code",
   "execution_count": 1,
   "id": "ad6b7c8f",
   "metadata": {},
   "outputs": [
    {
     "name": "stdout",
     "output_type": "stream",
     "text": [
      "Ganesh\n",
      "23\n",
      "Talks too much !\n"
     ]
    }
   ],
   "source": [
    "# e.g\n",
    "class Student:         #class\n",
    "    name = \"Ganesh\"\n",
    "    age = 23\n",
    "    def talk(self):\n",
    "        print('Talks too much !')\n",
    "\n",
    "Ganesh = Student()   #Object\n",
    "print(Ganesh.name) \n",
    "print(Ganesh.age) \n",
    "Ganesh.talk()"
   ]
  },
  {
   "cell_type": "markdown",
   "id": "79facbd7",
   "metadata": {},
   "source": [
    "### Q2. Name the four pillars of OOPS.\n",
    "The four pillars of OOP :\n",
    "* Abstraction\n",
    "* Encapsulation\n",
    "* Inheritance\n",
    "* Polymorphism"
   ]
  },
  {
   "cell_type": "markdown",
   "id": "5f95658f",
   "metadata": {},
   "source": [
    "### Q3. Explain why the _init_() function is used. Give a suitable example.\n",
    "*  The __init__() function is used to initialize the attributes of the class. This function is automatically called when an object is created and is passed the object itself as the first parameter, followed by any arguments passed to the class constructor.\n"
   ]
  },
  {
   "cell_type": "code",
   "execution_count": 3,
   "id": "4f5d4b0d",
   "metadata": {},
   "outputs": [
    {
     "name": "stdout",
     "output_type": "stream",
     "text": [
      "Hi my name is  Ganesh\n",
      "Hi my age is  23\n",
      "Hi my marks is  90\n"
     ]
    }
   ],
   "source": [
    "class Student:\n",
    "    def __init__(self,name,age,marks):\n",
    "        self.name = name\n",
    "        self.marks = marks\n",
    "        self.age = age\n",
    "        \n",
    "    def talk(self):\n",
    "        print('Hi my name is ',self.name)\n",
    "        print('Hi my age is ',self.age)\n",
    "        print('Hi my marks is ',self.marks)\n",
    "\n",
    "Ganesh = Student(\"Ganesh\",23,90)\n",
    "Ganesh.talk()\n"
   ]
  },
  {
   "cell_type": "markdown",
   "id": "98e3733a",
   "metadata": {},
   "source": [
    "### Q4. Why self is used in OOPS?\n",
    "\n",
    "* The self keyword is used to refer to the instance of the class being used. It is used to access the attributes and methods of the class within the class. When a method is called on an object, the object is automatically passed as the first argument to the method (as self). \n"
   ]
  },
  {
   "cell_type": "code",
   "execution_count": 6,
   "id": "67a4d8c4",
   "metadata": {},
   "outputs": [
    {
     "name": "stdout",
     "output_type": "stream",
     "text": [
      "Hi, I'm Ganesh.\n"
     ]
    }
   ],
   "source": [
    "# e.g. For example, consider the class \"Person\". In the introduce() method, we use self.name to access the name attribute of the person object.\n",
    "class Person:\n",
    "    def __init__(self, name, age, address):\n",
    "        self.name = name\n",
    "        self.age = age\n",
    "        self.address = address\n",
    "\n",
    "    def introduce(self):\n",
    "        print(f\"Hi, I'm {self.name}.\")\n",
    "\n",
    "person = Person(\"Ganesh\", 23, \"Pune\")\n",
    "person.introduce()\n"
   ]
  },
  {
   "cell_type": "markdown",
   "id": "c6d3d491",
   "metadata": {},
   "source": [
    "### Q5. What is inheritance? Give an example for each type of inheritance.\n",
    "\n",
    "\n",
    "Inheritance is a mechanism in OOP that allows a new class to inherit the attributes and methods of an existing class. The new class is called the derived class (or subclass) and the existing class is the base class (or superclass). Inheritance allows code reuse and provides a way to extend the functionality of an existing class.\n",
    "\n",
    "Types of inheritance in Python:\n",
    "\n",
    "* 1)Single Inheritance: In single inheritance, a derived class inherits from only one base class."
   ]
  },
  {
   "cell_type": "code",
   "execution_count": 10,
   "id": "f233faa1",
   "metadata": {},
   "outputs": [
    {
     "name": "stdout",
     "output_type": "stream",
     "text": [
      "Bark\n"
     ]
    }
   ],
   "source": [
    "class Animal:\n",
    "    def __init__(self, name, species):\n",
    "        self.name = name\n",
    "        self.species = species\n",
    "\n",
    "    def make_sound(self):\n",
    "        print(\"Animal sound\")\n",
    "\n",
    "class Dog(Animal):\n",
    "    def __init__(self, name, breed):\n",
    "        Animal.__init__(self, name, species=\"Dog\")\n",
    "        self.breed = breed\n",
    "\n",
    "    def make_sound(self):\n",
    "        print(\"Bark\")\n",
    "\n",
    "dog = Dog(\"Fido\", \"Labrador\")\n",
    "dog.make_sound()\n"
   ]
  },
  {
   "cell_type": "markdown",
   "id": "f0dc94a3",
   "metadata": {},
   "source": [
    "* 2) Multiple inheritance: In multiple inheritance, a derived class inherits attributes and behavior from multiple base classes."
   ]
  },
  {
   "cell_type": "code",
   "execution_count": 11,
   "id": "47c0a271",
   "metadata": {},
   "outputs": [
    {
     "name": "stdout",
     "output_type": "stream",
     "text": [
      "John Doe\n",
      "35\n",
      "12345\n",
      "50000\n"
     ]
    }
   ],
   "source": [
    "class Person:\n",
    "    def __init__(self, name, age):\n",
    "        self.name = name\n",
    "        self.age = age\n",
    "\n",
    "class Employee:\n",
    "    def __init__(self, id, salary):\n",
    "        self.id = id\n",
    "        self.salary = salary\n",
    "\n",
    "class Manager(Person, Employee):\n",
    "    def __init__(self, name, age, id, salary):\n",
    "        Person.__init__(self, name, age)\n",
    "        Employee.__init__(self, id, salary)\n",
    "\n",
    "manager = Manager(\"John Doe\", 35, 12345, 50000)\n",
    "print(manager.name)\n",
    "print(manager.age)\n",
    "print(manager.id)\n",
    "print(manager.salary)\n"
   ]
  },
  {
   "cell_type": "markdown",
   "id": "59f5dc55",
   "metadata": {},
   "source": [
    "* 3) Multilevel Inheritance: In multilevel inheritance, we have one parent class and child class that is derived or inherited from that parent class. We have a grand-child class that is derived from the child class. See the below-given flow diagram to understand more clearly."
   ]
  },
  {
   "cell_type": "code",
   "execution_count": 12,
   "id": "9615174e",
   "metadata": {},
   "outputs": [
    {
     "name": "stdout",
     "output_type": "stream",
     "text": [
      "Amazon is an Online Ecommerce Store popularity of 100\n",
      "Ebay is an Online Store popularity of 70\n",
      "OLX is an Online Buy Sell Store popularity of 60\n"
     ]
    }
   ],
   "source": [
    "class Brands:                      #parent_class\n",
    "    brand_name_1 = \"Amazon\"\n",
    "    brand_name_2 = \"Ebay\"\n",
    "    brand_name_3 = \"OLX\"\n",
    "    \n",
    "class Products(Brands):            #child_class\n",
    "    prod_1 = \"Online Ecommerce Store\"\n",
    "    prod_2 = \"Online Store\"\n",
    "    prod_3 = \"Online Buy Sell Store\"\n",
    "\n",
    "class Popularity(Products):        #grand_child_class\n",
    "    prod_1_popularity = 100\n",
    "    prod_2_popularity = 70\n",
    "    prod_3_popularity = 60\n",
    "    \n",
    "    \n",
    "obj_1 = Popularity()          #Object_creation\n",
    "print(obj_1.brand_name_1+\" is an \"+obj_1.prod_1+\" popularity of \"+str(obj_1.prod_1_popularity))\n",
    "print(obj_1.brand_name_2+\" is an \"+obj_1.prod_2+\" popularity of \"+str(obj_1.prod_2_popularity))\n",
    "print(obj_1.brand_name_3+\" is an \"+obj_1.prod_3+\" popularity of \"+str(obj_1.prod_3_popularity))\n"
   ]
  },
  {
   "cell_type": "markdown",
   "id": "cb63f85d",
   "metadata": {},
   "source": [
    "* 4) Hierarchical inheritance: When we derive or inherit more than one child class from one(same) parent class. Then this type of inheritance is called hierarchical inheritance."
   ]
  },
  {
   "cell_type": "code",
   "execution_count": 13,
   "id": "8783d497",
   "metadata": {},
   "outputs": [
    {
     "name": "stdout",
     "output_type": "stream",
     "text": [
      "Amazon is an Online Ecommerce Store\n",
      "Amazon is an Online Ecommerce Store\n",
      "Amazon is an Online Ecommerce Store\n"
     ]
    }
   ],
   "source": [
    "class Brands:                      #parent_class\n",
    "    brand_name_1 = \"Amazon\"\n",
    "    brand_name_2 = \"Ebay\"\n",
    "    brand_name_3 = \"OLX\"\n",
    "    \n",
    "class Products(Brands):            #child_class\n",
    "    prod_1 = \"Online Ecommerce Store\"\n",
    "    prod_2 = \"Online Store\"\n",
    "    prod_3 = \"Online Buy Sell Store\"\n",
    "\n",
    "class Popularity(Brands):        #grand_child_class\n",
    "    prod_1_popularity = 100\n",
    "    prod_2_popularity = 70\n",
    "    prod_3_popularity = 60\n",
    "\n",
    "class Value(Brands):\n",
    "    prod_1_value = \"Excellent Value\"\n",
    "    prod_2_value = \"Better Value\"\n",
    "    prod_3_value = \"Good Value\"\n",
    "    \n",
    "obj_1 = Products()          #Object_creation\n",
    "obj_2 = Popularity()\n",
    "obj_3 = Value()\n",
    "print(obj_1.brand_name_1+\" is an \"+obj_1.prod_1)\n",
    "print(obj_1.brand_name_1+\" is an \"+obj_1.prod_1)\n",
    "print(obj_1.brand_name_1+\" is an \"+obj_1.prod_1)"
   ]
  },
  {
   "cell_type": "markdown",
   "id": "f1315e09",
   "metadata": {},
   "source": [
    "* 5) Hybrid Inheritance: Hybrid inheritance satisfies more than one form of inheritance ie. It may be consists of all types of inheritance that we have done above. It is not wrong if we say Hybrid Inheritance is the combinations of simple, multiple, multilevel and hierarchical inheritance. This type of inheritance is very helpful if we want to use concepts of inheritance without any limitations according to our requirements."
   ]
  },
  {
   "cell_type": "code",
   "execution_count": 19,
   "id": "9dfb2642",
   "metadata": {},
   "outputs": [
    {
     "name": "stdout",
     "output_type": "stream",
     "text": [
      "This is Student class inheriting PC and Laptop\n",
      "This is Mouse class inheriting Laptop class\n"
     ]
    }
   ],
   "source": [
    "class PC:\n",
    "    def fun1(self):\n",
    "        print(\"This is PC class\")\n",
    "\n",
    "class Laptop(PC):\n",
    "    def fun2(self):\n",
    "        print(\"This is Laptop class inheriting PC class\")\n",
    "\n",
    "class Mouse(Laptop):\n",
    "    def fun3(self):\n",
    "        print(\"This is Mouse class inheriting Laptop class\")\n",
    "\n",
    "class Student(Mouse, Laptop):\n",
    "    def fun4(self):\n",
    "        print(\"This is Student class inheriting PC and Laptop\")\n",
    "\n",
    "# Driver’s code\n",
    "obj = Student()\n",
    "obj1 = Mouse()\n",
    "obj.fun4()\n",
    "obj.fun3()"
   ]
  },
  {
   "cell_type": "code",
   "execution_count": null,
   "id": "1fbf7e41",
   "metadata": {},
   "outputs": [],
   "source": []
  }
 ],
 "metadata": {
  "kernelspec": {
   "display_name": "Python 3 (ipykernel)",
   "language": "python",
   "name": "python3"
  },
  "language_info": {
   "codemirror_mode": {
    "name": "ipython",
    "version": 3
   },
   "file_extension": ".py",
   "mimetype": "text/x-python",
   "name": "python",
   "nbconvert_exporter": "python",
   "pygments_lexer": "ipython3",
   "version": "3.9.13"
  }
 },
 "nbformat": 4,
 "nbformat_minor": 5
}
