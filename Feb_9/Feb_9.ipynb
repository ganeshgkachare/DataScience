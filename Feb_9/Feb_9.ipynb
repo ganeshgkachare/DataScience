{
 "cells": [
  {
   "cell_type": "markdown",
   "id": "fd050eb4",
   "metadata": {},
   "source": [
    "#### Q1. Create a vehicle class with an init method having instance variables as name_of_vehicle, max_speed and average_of_vehicle. "
   ]
  },
  {
   "cell_type": "code",
   "execution_count": 5,
   "id": "c7dbb5c4",
   "metadata": {},
   "outputs": [
    {
     "name": "stdout",
     "output_type": "stream",
     "text": [
      "60\n",
      "100\n",
      "Shine\n"
     ]
    }
   ],
   "source": [
    "class Vehicle:                                                                  #Class\n",
    "    def __init__(self, name_of_vehicle, max_speed, average_of_vehicle):\n",
    "        self.name_of_vehicle = name_of_vehicle\n",
    "        self.max_speed = max_speed\n",
    "        self.average_of_vehicle = average_of_vehicle\n",
    "        \n",
    "shine= Vehicle(\"Shine\",100,60)    # Object\n",
    "print(shine.average_of_vehicle)\n",
    "print(shine.max_speed)\n",
    "print(shine.name_of_vehicle)"
   ]
  },
  {
   "cell_type": "markdown",
   "id": "3b3533ef",
   "metadata": {},
   "source": [
    "#### Q2.  Create a child class car from the vehicle class created in Que 1, which will inherit the vehicle class. Create a method named seating_capacity which takes capacity as an argument and returns the name of the vehicle and its seating capacity."
   ]
  },
  {
   "cell_type": "code",
   "execution_count": 13,
   "id": "04121bbb",
   "metadata": {},
   "outputs": [
    {
     "data": {
      "text/plain": [
       "'Shine seating capacity: 2'"
      ]
     },
     "execution_count": 13,
     "metadata": {},
     "output_type": "execute_result"
    }
   ],
   "source": [
    "class Car(Vehicle):\n",
    "    def seating_capacity(self, capacity):\n",
    "        return f\"{self.name_of_vehicle} seating capacity: {capacity}\"\n",
    "    \n",
    "bike = Car(\"Shine\",100,60)   \n",
    "bike.seating_capacity(2)"
   ]
  },
  {
   "cell_type": "markdown",
   "id": "ef3884d0",
   "metadata": {},
   "source": [
    "#### Q3. What is multiple inheritance? Write a python code to demonstrate multiple inheritance.\n",
    "Multiple inheritance is a feature of object-oriented programming where a class can inherit properties and behaviors from multiple parent classes. "
   ]
  },
  {
   "cell_type": "code",
   "execution_count": 16,
   "id": "b3e7d889",
   "metadata": {},
   "outputs": [],
   "source": [
    "# Ex.1\n",
    "class Shape:\n",
    "    def __init__(self, width, height):\n",
    "        self.width = width\n",
    "        self.height = height\n",
    "        \n",
    "    def area(self):\n",
    "        return self.width * self.height\n",
    "    \n",
    "class Color:\n",
    "    def __init__(self, color):\n",
    "        self.color = color\n",
    "        \n",
    "    def fill(self, color):\n",
    "        self.color = color\n",
    "        \n",
    "class Rectangle(Shape, Color):\n",
    "    def __init__(self, width, height, color):\n",
    "        Shape.__init__(self, width, height)\n",
    "        Color.__init__(self, color)\n",
    "        \n"
   ]
  },
  {
   "cell_type": "code",
   "execution_count": 19,
   "id": "8280face",
   "metadata": {},
   "outputs": [
    {
     "name": "stdout",
     "output_type": "stream",
     "text": [
      "Ganesh 23\n",
      "-----------\n",
      "Star emp at Youtube\n"
     ]
    }
   ],
   "source": [
    "# Ex.2\n",
    "class Person:\n",
    "    def person_info(self,name,age):\n",
    "        self.name = name\n",
    "        self.age =  age\n",
    "\n",
    "class Company1:\n",
    "    def comp_info_reg(self):\n",
    "        print(\"Google\")\n",
    "    def star(self):\n",
    "        print(\"Star emp at Google\")\n",
    "    def views(self):\n",
    "        print(\"You have 100 views in Google review\")\n",
    "\n",
    "class Company2:\n",
    "    def comp_info_free(self):\n",
    "        print(\"Youtube\")\n",
    "    def star(self):\n",
    "        print(\"Star emp at Youtube\")\n",
    "    def views(self):\n",
    "        print(\"You have 100 views in Youtube\")\n",
    "\n",
    "# class Employee(Person, Company1,Company2):\n",
    "class Employee(Person, Company2,Company1):\n",
    "    def emp_info(self, salary):\n",
    "        self.salary = salary\n",
    "\n",
    "    def character(self):\n",
    "        print(\"Good manager\")\n",
    "        super().views()\n",
    "\n",
    "p1 =  Person()\n",
    "p1.person_info(\"Ganesh\" , 23)\n",
    "print(p1.name , p1.age)\n",
    "print(\"-----------\")\n",
    "e1 = Employee()\n",
    "e1.star()"
   ]
  },
  {
   "cell_type": "markdown",
   "id": "cbdbe81e",
   "metadata": {},
   "source": [
    "#### Q4. What are getter and setter in python? Create a class and create a getter and a setter method in this class.\n",
    "Getters and setters are special methods in Python used to retrieve (get) and modify (set) the values of object attributes. "
   ]
  },
  {
   "cell_type": "code",
   "execution_count": 20,
   "id": "75f7d6bf",
   "metadata": {},
   "outputs": [],
   "source": [
    "# Ex.1\n",
    "class Person:\n",
    "    def __init__(self, name, age):\n",
    "        self.__name = name\n",
    "        self.__age = age\n",
    "        \n",
    "    @property\n",
    "    def name(self):\n",
    "        return self.__name\n",
    "    \n",
    "    @name.setter\n",
    "    def name(self, name):\n",
    "        self.__name = name\n",
    "        \n",
    "    @property\n",
    "    def age(self):\n",
    "        return self.__age\n",
    "    \n",
    "    @age.setter\n",
    "    def age(self, age):\n",
    "        self.__age = age\n"
   ]
  },
  {
   "cell_type": "code",
   "execution_count": 22,
   "id": "8507cbfe",
   "metadata": {},
   "outputs": [
    {
     "data": {
      "text/plain": [
       "1234"
      ]
     },
     "execution_count": 22,
     "metadata": {},
     "output_type": "execute_result"
    }
   ],
   "source": [
    "# Ex.2\n",
    "class bank:\n",
    "    def __init__(self,name, acc , bal, pin ):\n",
    "        self.name  = name\n",
    "        self.acc  = acc\n",
    "        self.bal  = bal\n",
    "    #make the pin a private variable\n",
    "        self.__pin  = pin\n",
    "\n",
    "    #setter\n",
    "    def changePin(self,newPin):\n",
    "         self.__pin  = newPin\n",
    "         return self.__pin\n",
    "\n",
    "    #getter\n",
    "    def showNewPin(self):\n",
    "        return self.__pin\n",
    "\n",
    "roshan = bank(\"Roshan\", 555 , 1000 , 1234)\n",
    "roshan.showNewPin()"
   ]
  },
  {
   "cell_type": "markdown",
   "id": "ef1402d9",
   "metadata": {},
   "source": [
    "#### Q5.What is method overriding in python? Write a python code to demonstrate method overriding.\n",
    "Method overriding is a feature of object-oriented programming where a subclass can provide a new implementation for a method that is already defined in its parent class. The new implementation in the subclass is said to override the method in the parent class.\n",
    "\n",
    "In Python, method overriding is achieved by defining a method in the subclass with the same name as a method in the parent class. When a method with the same name is called on an object of the subclass, the implementation in the subclass will be executed instead of the implementation in the parent class."
   ]
  },
  {
   "cell_type": "code",
   "execution_count": 18,
   "id": "22d1095b",
   "metadata": {},
   "outputs": [
    {
     "data": {
      "text/plain": [
       "'Bark'"
      ]
     },
     "execution_count": 18,
     "metadata": {},
     "output_type": "execute_result"
    }
   ],
   "source": [
    "# Ex.1\n",
    "class Animal:\n",
    "    def make_sound(self):\n",
    "        return \"Animal sound\"\n",
    "    \n",
    "class Dog(Animal):\n",
    "    def make_sound(self):\n",
    "        return \"Bark\"\n",
    "\n",
    "sound=Dog()\n",
    "sound.make_sound()"
   ]
  },
  {
   "cell_type": "code",
   "execution_count": 24,
   "id": "7c026e43",
   "metadata": {},
   "outputs": [
    {
     "name": "stdout",
     "output_type": "stream",
     "text": [
      "Max Speed in 200\n"
     ]
    }
   ],
   "source": [
    "# Ex.2\n",
    "class Vehicle:\n",
    "    def __init__(self,name,color):\n",
    "        self.name = name\n",
    "        self.color = color\n",
    "    def speed(self):\n",
    "        print(\"Max Speed in 200\")\n",
    "\n",
    "class Car(Vehicle):\n",
    "    def speed(self):\n",
    "        print(\"Max Speed in 120\")\n",
    "\n",
    "v = Vehicle(\"maruti\", \"White\")\n",
    "v.speed()"
   ]
  },
  {
   "cell_type": "code",
   "execution_count": null,
   "id": "0d675e2a",
   "metadata": {},
   "outputs": [],
   "source": []
  }
 ],
 "metadata": {
  "kernelspec": {
   "display_name": "Python 3 (ipykernel)",
   "language": "python",
   "name": "python3"
  },
  "language_info": {
   "codemirror_mode": {
    "name": "ipython",
    "version": 3
   },
   "file_extension": ".py",
   "mimetype": "text/x-python",
   "name": "python",
   "nbconvert_exporter": "python",
   "pygments_lexer": "ipython3",
   "version": "3.9.13"
  }
 },
 "nbformat": 4,
 "nbformat_minor": 5
}
