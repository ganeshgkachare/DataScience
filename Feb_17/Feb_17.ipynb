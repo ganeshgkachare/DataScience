{
 "cells": [
  {
   "cell_type": "markdown",
   "id": "c5dd8730",
   "metadata": {},
   "source": [
    "### Q1. What is MongoDB? Explain non-relational databases in short. In which scenarios it is preferred to use \n",
    "MongoDB over SQL databases?\n",
    "MongoDB is a NoSQL document-oriented database management system that stores data in a JSON-like format called BSON (Binary JSON). It is designed to be scalable, flexible, and high-performance, making it suitable for a wide range of applications. MongoDB is an open-source database and provides many features such as indexing, ad-hoc queries, sharding, replication, and load balancing.\n",
    "\n",
    "Non-relational databases, also known as NoSQL databases, are designed to handle unstructured data and large-scale applications that require high levels of scalability and availability. Non-relational databases use various data models to store and manage data, such as key-value, document-based, column-family, and graph databases.\n",
    "\n",
    "MongoDB is preferred over SQL databases in scenarios where there is a need for high scalability, flexibility, and performance. It is particularly useful for handling unstructured data, such as social media data, web logs, sensor data, and other big data applications."
   ]
  },
  {
   "cell_type": "markdown",
   "id": "72d62fd6",
   "metadata": {},
   "source": [
    "### Q2. State and Explain the features of MongoDB.\n",
    "The features of MongoDB are as follows:\n",
    "\n",
    "Document-oriented: MongoDB is a document-oriented database, which means that it stores data in a JSON-like format called BSON (Binary JSON). This allows for flexible data structures and makes it easy to work with unstructured data.\n",
    "\n",
    "Schema-less: MongoDB is a schema-less database, which means that there is no need to define a rigid data schema upfront. This allows for more flexibility and makes it easier to handle changing data requirements.\n",
    "\n",
    "High performance: MongoDB is designed to be high-performance and can handle large amounts of data and high levels of traffic.\n",
    "\n",
    "Scalability: MongoDB is designed to be highly scalable and can be used in distributed environments, where data is spread across multiple servers.\n",
    "\n",
    "Indexing: MongoDB provides support for various types of indexing, such as single-field, compound, and geospatial indexes, which allows for fast and efficient queries.\n",
    "\n",
    "Aggregation framework: MongoDB provides a powerful aggregation framework that allows for complex data processing, such as grouping, filtering, and transforming data.\n",
    "\n",
    "Automatic sharding: MongoDB provides automatic sharding, which allows for the distribution of data across multiple servers.\n",
    "\n",
    "Replication: MongoDB provides replication, which allows for the creation of multiple copies of data to ensure high availability and fault tolerance."
   ]
  },
  {
   "cell_type": "markdown",
   "id": "d3fc2234",
   "metadata": {},
   "source": [
    "### Q3. Write a code to connect MongoDB to Python. Also, create a database and a collection in MongoDB.\n",
    "To connect to MongoDB from Python, we can use the pymongo library."
   ]
  },
  {
   "cell_type": "code",
   "execution_count": null,
   "id": "120cd878",
   "metadata": {},
   "outputs": [],
   "source": [
    "import pymongo\n",
    "\n",
    "# create a connection to the MongoDB server\n",
    "client = pymongo.MongoClient(\"mongodb://localhost:27017/\")\n",
    "\n",
    "# create a new database\n",
    "mydb = client[\"mydatabase\"]\n",
    "\n",
    "# create a new collection\n",
    "mycol = mydb[\"customers\"]\n"
   ]
  },
  {
   "cell_type": "markdown",
   "id": "2fca0961",
   "metadata": {},
   "source": [
    "### Q4. Using the database and the collection created in question number 3, write a code to insert one record, and insert many records. Use the find() and find_one() methods to print the inserted record.\n",
    "o insert records in MongoDB, we can use the insert_one() method to insert one record, and the insert_many() method to insert many records."
   ]
  },
  {
   "cell_type": "code",
   "execution_count": null,
   "id": "e466d344",
   "metadata": {},
   "outputs": [],
   "source": [
    "# insert one record\n",
    "mydict = { \"name\": \"John\", \"address\": \"Highway 37\" }\n",
    "x = mycol.insert_one(mydict)\n",
    "\n",
    "# insert many records\n",
    "mylist = [\n",
    "  { \"name\": \"Amy\", \"address\": \"Apple st 652\"},\n",
    "  { \"name\": \"Hannah\", \"address\": \"Mountain 21\"},\n",
    "  { \"name\": \"Michael\", \"address\": \"Valley 345\"},\n",
    "  { \"name\": \"Sandy\", \"address\": \"Ocean blvd 2\"},\n",
    "  { \"name\": \"Betty\", \"address\": \"Green Grass 1\"},\n",
    "  { \"name\": \"Richard\", \"address\": \"Sky st 331\"}\n",
    "]\n",
    "x = mycol.insert_many(mylist)\n",
    "\n",
    "# find one record\n",
    "x = mycol.find_one()\n",
    "print(x)\n",
    "\n",
    "# find all records\n",
    "for x in mycol.find():\n",
    "  print(x)\n"
   ]
  },
  {
   "cell_type": "markdown",
   "id": "844d5ee1",
   "metadata": {},
   "source": [
    "### Q5. Explain how you can use the find() method to query the MongoDB database. Write a simple code to demonstrate this.\n",
    "The find() method is used to query the MongoDB database. We can pass a query object as a parameter to the find() method to filter the results."
   ]
  },
  {
   "cell_type": "code",
   "execution_count": null,
   "id": "3184298c",
   "metadata": {},
   "outputs": [],
   "source": [
    "# find records with the address starting with 'S'\n",
    "myquery = { \"address\": { \"$regex\": \"^S\" } }\n",
    "mydoc = mycol.find(myquery)\n",
    "for x in mydoc:\n",
    "  print(x)\n",
    "# This code will find all records in the collection where the address starts with the letter 'S'."
   ]
  },
  {
   "cell_type": "markdown",
   "id": "69b003bd",
   "metadata": {},
   "source": [
    "### Q6. Explain the sort() method. Give an example to demonstrate sorting in MongoDB.\n",
    "The sort() method is used to sort the results of a query in ascending or descending order based on one or more fields."
   ]
  },
  {
   "cell_type": "code",
   "execution_count": null,
   "id": "4aea5b6e",
   "metadata": {},
   "outputs": [],
   "source": [
    "# sort the records by name in ascending order\n",
    "mydoc = mycol.find().sort(\"name\")\n",
    "for x in mydoc:\n",
    "  print(x)\n"
   ]
  },
  {
   "cell_type": "markdown",
   "id": "b0449df3",
   "metadata": {},
   "source": [
    "### Q7. Explain why delete_one(), delete_many(), and drop() is used\n",
    "In MongoDB, delete_one(), delete_many(), and drop() are used for deleting data from a collection or the entire collection.\n",
    "\n",
    "The delete_one() method is used to delete a single document that matches a given filter from a collection. If multiple documents match the filter, only the first document will be deleted.\n",
    "\n",
    "The delete_many() method is used to delete all documents that match a given filter from a collection.\n",
    "\n",
    "The drop() method is used to drop a collection from the database. When a collection is dropped, all of its indexes and data are also deleted.\n",
    "\n",
    "These methods are useful when there is a need to delete data from the database or clear the entire collection. For example, if an application has user accounts that need to be removed due to inactivity or other reasons, the delete_many() method can be used to delete all inactive user accounts. Similarly, if a collection is no longer needed, the drop() method can be used to delete the entire collection from the database."
   ]
  }
 ],
 "metadata": {
  "kernelspec": {
   "display_name": "Python 3 (ipykernel)",
   "language": "python",
   "name": "python3"
  },
  "language_info": {
   "codemirror_mode": {
    "name": "ipython",
    "version": 3
   },
   "file_extension": ".py",
   "mimetype": "text/x-python",
   "name": "python",
   "nbconvert_exporter": "python",
   "pygments_lexer": "ipython3",
   "version": "3.9.13"
  }
 },
 "nbformat": 4,
 "nbformat_minor": 5
}
