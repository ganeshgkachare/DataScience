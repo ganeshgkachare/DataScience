{
 "cells": [
  {
   "cell_type": "markdown",
   "id": "1560e6f6",
   "metadata": {},
   "source": [
    "### Q1. What is a database? Differentiate between SQL and NoSQL databases.\n",
    "A database is an organized collection of data that is stored and accessed electronically. Databases are used to store, retrieve, and manage large amounts of structured data, such as customer information, financial data, or product catalogs.\n",
    "\n",
    "SQL (Structured Query Language) and NoSQL (Not Only SQL) are two types of databases that are commonly used. SQL databases are relational databases that use tables to store data, and use SQL to manipulate and retrieve the data. NoSQL databases, on the other hand, are non-relational databases that store data in a variety of ways, such as key-value pairs or documents.\n",
    "\n",
    "The main differences between SQL and NoSQL databases are:\n",
    "\n",
    "Data model: SQL databases use a table-based data model with fixed schemas, while NoSQL databases use a variety of data models, including key-value, document, and graph.\n",
    "\n",
    "Scalability: NoSQL databases are often designed to be horizontally scalable, meaning they can handle large volumes of data across multiple servers, while SQL databases can be more limited in their scalability.\n",
    "\n",
    "Query language: SQL databases use SQL as the query language, while NoSQL databases use a variety of query languages, depending on the type of database.\n",
    "\n",
    "ACID compliance: SQL databases are typically ACID compliant, meaning they provide strong consistency guarantees, while NoSQL databases may sacrifice some consistency for greater scalability or performance."
   ]
  },
  {
   "cell_type": "markdown",
   "id": "59e2dd48",
   "metadata": {},
   "source": [
    "### Q2. What is DDL? Explain why CREATE, DROP, ALTER, and TRUNCATE are used with an example.\n",
    "DDL (Data Definition Language) is a subset of SQL that is used to define and manipulate the structure of a database. DDL statements are used to create, modify, and delete database objects such as tables, indexes, and constraints.\n",
    "\n",
    "Here are some examples of DDL statements and their uses:\n",
    "\n",
    "CREATE: Used to create a new database object, such as a table, index, or view. For example, the following SQL statement creates a new table called \"customers\":\n",
    "\n",
    "CREATE TABLE customers (\n",
    "id INT PRIMARY KEY,\n",
    "name VARCHAR(50),\n",
    "email VARCHAR(50)\n",
    ");\n",
    "\n",
    "DROP: Used to delete an existing database object. For example, the following SQL statement deletes the \"customers\" table:\n",
    "\n",
    "DROP TABLE customers;\n",
    "\n",
    "ALTER: Used to modify an existing database object, such as adding or removing columns from a table. For example, the following SQL statement adds a new column called \"phone\" to the \"customers\" table:\n",
    "\n",
    "ALTER TABLE customers ADD COLUMN phone VARCHAR(20);\n",
    "\n",
    "TRUNCATE: Used to remove all data from an existing table. Unlike the DROP statement, which deletes the entire table, the TRUNCATE statement only removes the data. For example, the following SQL statement removes all data from the \"customers\" table:\n",
    "\n",
    "TRUNCATE TABLE customers;"
   ]
  },
  {
   "cell_type": "markdown",
   "id": "1e2f0df6",
   "metadata": {},
   "source": [
    "### Q3. What is DML? Explain INSERT, UPDATE, and DELETE with an example.\n",
    "DML (Data Manipulation Language) is a subset of SQL that is used to manipulate data in a database. DML statements are used to insert, update, and delete data in tables.\n",
    "\n",
    "Here are some examples of DML statements and their uses:\n",
    "\n",
    "INSERT: Used to insert new data into a table. For example, the following SQL statement inserts a new row into the \"customers\" table:\n",
    "\n",
    "INSERT INTO customers (id, name, email) VALUES (1, 'Ganesh Kachare', 'ganeshgkachare@gmail.com');\n",
    "\n",
    "UPDATE: Used to update existing data in a table. For example, the following SQL statement updates the email address for the customer with an ID of 1:\n",
    "\n",
    "UPDATE customers SET email = 'ganeshgk@gmail.com' WHERE id = 1;\n",
    "\n",
    "DELETE: Used to delete data from a table. For example, the following SQL statement deletes the customer with an ID of 1:\n",
    "\n",
    "DELETE FROM customers WHERE id = 1;\n"
   ]
  },
  {
   "cell_type": "markdown",
   "id": "5746a0eb",
   "metadata": {},
   "source": [
    "### Q4. What is DQL? Explain SELECT with an example.\n",
    "\n",
    "DQL (Data Query Language) is a subset of SQL that is used to retrieve data from a database. The most commonly used DQL statement is SELECT, which is used to select data from one or more tables.\n",
    "\n",
    "Here is an example of a SELECT statement:\n",
    "\n",
    "SELECT * FROM customers;\n",
    "\n",
    "This statement selects all data from the \"customers\" table. The \"*\" symbol is a wildcard that selects all columns in the table. You can also select specific columns by listing them after the SELECT keyword, like this:\n",
    "\n",
    "SELECT name, email FROM customers;\n",
    "\n",
    "This statement selects only the \"name\" and \"email\" columns from the \"customers\" table."
   ]
  },
  {
   "cell_type": "markdown",
   "id": "6a342f5b",
   "metadata": {},
   "source": [
    "### Q5. Explain Primary Key and Foreign Key.\n",
    "\n",
    "A primary key is a column or set of columns in a table that uniquely identifies each row in the table. A primary key constraint ensures that each value in the primary key is unique and not null. Primary keys are commonly used in relational databases to establish relationships between tables.\n",
    "\n",
    "A foreign key is a column or set of columns in one table that refers to the primary key of another table. Foreign keys are used to enforce referential integrity, which ensures that the data in related tables is consistent. A foreign key constraint ensures that the values in the foreign key column(s) match the values in the primary key column(s) of the related table."
   ]
  },
  {
   "cell_type": "markdown",
   "id": "f6af41cc",
   "metadata": {},
   "source": [
    "### Q6. Write a python code to connect MySQL to python. Explain the cursor() and execute() method.\n",
    "* Python code to connect to a MySQL database using the mysql-connector-python library\n",
    "\n",
    "* The cursor() method returns a cursor object, which is used to execute SQL statements and fetch results from the database. The execute() method is used to execute an SQL statement. The results can be fetched using a loop that iterates over the cursor object."
   ]
  },
  {
   "cell_type": "code",
   "execution_count": null,
   "id": "df0f96b0",
   "metadata": {},
   "outputs": [],
   "source": [
    "import mysql.connector\n",
    "\n",
    "# Connect to the database\n",
    "db = mysql.connector.connect(user='username', password='password',\n",
    "                              host='localhost',\n",
    "                              database='database_name')\n",
    "\n",
    "# Create a cursor object\n",
    "cursor = db.cursor()\n",
    "\n",
    "# Execute a query\n",
    "query = \"SELECT * FROM customers\"\n",
    "cursor.execute(query)\n",
    "\n",
    "# Fetch the results\n",
    "for row in cursor:\n",
    "    print(row)\n",
    "\n",
    "# Close the cursor and connection\n",
    "cursor.close()\n",
    "db.close()\n"
   ]
  },
  {
   "cell_type": "markdown",
   "id": "73482a47",
   "metadata": {},
   "source": [
    "### Q7. Give the order of execution of SQL clauses in an SQL query.\n",
    "The order of execution of SQL clauses in a query is:\n",
    "\n",
    "1) SELECT\n",
    "\n",
    "2) FROM\n",
    "\n",
    "3) JOIN\n",
    "\n",
    "4) WHERE\n",
    "\n",
    "5) GROUP BY\n",
    "\n",
    "6) HAVING\n",
    "\n",
    "7) ORDER BY\n",
    "\n",
    "However, not all of these clauses are required in every query, and some may be optional or appear in a different"
   ]
  }
 ],
 "metadata": {
  "kernelspec": {
   "display_name": "Python 3 (ipykernel)",
   "language": "python",
   "name": "python3"
  },
  "language_info": {
   "codemirror_mode": {
    "name": "ipython",
    "version": 3
   },
   "file_extension": ".py",
   "mimetype": "text/x-python",
   "name": "python",
   "nbconvert_exporter": "python",
   "pygments_lexer": "ipython3",
   "version": "3.9.13"
  }
 },
 "nbformat": 4,
 "nbformat_minor": 5
}
